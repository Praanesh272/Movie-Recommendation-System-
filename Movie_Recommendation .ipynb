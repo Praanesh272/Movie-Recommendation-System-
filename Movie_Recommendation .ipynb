{
 "cells": [
  {
   "cell_type": "code",
   "execution_count": 1,
   "id": "afb734df",
   "metadata": {},
   "outputs": [],
   "source": [
    "import pandas as pd\n",
    "from sklearn.feature_extraction.text import TfidfVectorizer\n",
    "from sklearn.cluster import KMeans\n",
    "from sklearn.metrics import silhouette_score\n",
    "from sklearn.metrics.pairwise import cosine_similarity\n",
    "import matplotlib.pyplot as plt"
   ]
  },
  {
   "cell_type": "code",
   "execution_count": 2,
   "id": "98779fde",
   "metadata": {},
   "outputs": [],
   "source": [
    "df = pd.read_csv('movies.csv')\n",
    "df['genres'] = df['genres'].fillna('').str.replace('|', ' ', regex=False).str.lower().str.strip()\n",
    "df['title_lower'] = df['title'].str.lower()"
   ]
  },
  {
   "cell_type": "code",
   "execution_count": 3,
   "id": "7b221c87",
   "metadata": {},
   "outputs": [],
   "source": [
    "vectorizer = TfidfVectorizer()\n",
    "X = vectorizer.fit_transform(df['genres'])"
   ]
  },
  {
   "cell_type": "code",
   "execution_count": 4,
   "id": "8d507551",
   "metadata": {},
   "outputs": [],
   "source": [
    "def find_best_k(data, max_k=15):\n",
    "    best_k = 2\n",
    "    best_score = -1\n",
    "    scores = []\n",
    "    for k in range(2, max_k + 1):\n",
    "        kmeans = KMeans(n_clusters=k, random_state=42, n_init=10)\n",
    "        labels = kmeans.fit_predict(data)\n",
    "        score = silhouette_score(data, labels)\n",
    "        scores.append(score)\n",
    "        if score > best_score:\n",
    "            best_k = k\n",
    "            best_score = score\n",
    "    plt.plot(range(2, max_k + 1), scores, marker='o')\n",
    "    plt.xlabel('Number of Clusters (k)')\n",
    "    plt.ylabel('Silhouette Score')\n",
    "    plt.title('Silhouette Score vs k')\n",
    "    plt.show()\n",
    "    return best_k"
   ]
  },
  {
   "cell_type": "code",
   "execution_count": 5,
   "id": "2ed625b1",
   "metadata": {},
   "outputs": [],
   "source": [
    "k = 10  # or use best_k from silhouette method\n",
    "kmeans = KMeans(n_clusters=k, random_state=42, n_init=10)\n",
    "df['cluster'] = kmeans.fit_predict(X)"
   ]
  },
  {
   "cell_type": "code",
   "execution_count": 8,
   "id": "6c898709",
   "metadata": {},
   "outputs": [],
   "source": [
    "def recommend(movie_title, top_n=5):\n",
    "    movie_title = movie_title.strip().lower()\n",
    "    if movie_title not in df['title_lower'].values:\n",
    "        return f\"'{movie_title}' not found.\"\n",
    "\n",
    "    idx = df[df['title_lower'] == movie_title].index[0]\n",
    "    cluster_id = df.loc[idx, 'cluster']\n",
    "\n",
    "    cluster_movies = df[(df['cluster'] == cluster_id) & (df.index != idx)]\n",
    "    if cluster_movies.empty:\n",
    "        return [\"No similar movies found in the same cluster.\"]\n",
    "    movie_vec = X[idx]\n",
    "    cluster_vecs = X[cluster_movies.index]\n",
    "    similarities = cosine_similarity(movie_vec, cluster_vecs).flatten()\n",
    "\n",
    "    top_indices = similarities.argsort()[::-1][:top_n]\n",
    "    recommendations = cluster_movies.iloc[top_indices]['title'].tolist()\n",
    "    return recommendations\n",
    "    "
   ]
  },
  {
   "cell_type": "code",
   "execution_count": 11,
   "id": "057b8c91",
   "metadata": {},
   "outputs": [
    {
     "name": "stdout",
     "output_type": "stream",
     "text": [
      "\n",
      " Recommendations for 'Matrix, The (1999)':\n",
      "['Boy 7 (2015)', 'Universal Soldier: Day of Reckoning (2012)', 'Twisted Pair (2018)', 'Meteor Apocalypse (2010)', 'Arrival, The (1996)']\n"
     ]
    }
   ],
   "source": [
    "movie = \"Matrix, The (1999)\"\n",
    "print(f\"\\n Recommendations for '{movie}':\")\n",
    "print(recommend(movie))"
   ]
  },
  {
   "cell_type": "code",
   "execution_count": null,
   "id": "17685d04",
   "metadata": {},
   "outputs": [],
   "source": []
  }
 ],
 "metadata": {
  "kernelspec": {
   "display_name": "Python 3",
   "language": "python",
   "name": "python3"
  },
  "language_info": {
   "codemirror_mode": {
    "name": "ipython",
    "version": 3
   },
   "file_extension": ".py",
   "mimetype": "text/x-python",
   "name": "python",
   "nbconvert_exporter": "python",
   "pygments_lexer": "ipython3",
   "version": "3.10.0"
  }
 },
 "nbformat": 4,
 "nbformat_minor": 5
}
